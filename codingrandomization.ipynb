{
 "cells": [
  {
   "cell_type": "code",
   "execution_count": 2,
   "metadata": {},
   "outputs": [
    {
     "name": "stdout",
     "output_type": "stream",
     "text": [
      "%pylab is deprecated, use %matplotlib inline and import the required libraries.\n",
      "Populating the interactive namespace from numpy and matplotlib\n"
     ]
    },
    {
     "data": {
      "image/png": "[encoded data removed]",
      "text/plain": [
       "<Figure size 432x288 with 1 Axes>"
      ]
     },
     "metadata": {
      "needs_background": "light"
     },
     "output_type": "display_data"
    }
   ],
   "source": [
    "%pylab inline\n",
    "import matplotlib.pyplot as plt\n",
    "import matplotlib.image as mpimg\n",
    "\n",
    "\n",
    "img = mpimg.imread('Top1.png')\n",
    "imgplot = plt.imshow(img)\n",
    "plt.show()\n",
    "\n",
    "\n",
    "#with open (\"Acc1.png\", 'rb') as pic1:\n",
    "#    image = pic1.read()\n",
    "\n",
    "#print (image)"
   ]
  },
  {
   "cell_type": "code",
   "execution_count": 3,
   "metadata": {},
   "outputs": [
    {
     "name": "stdout",
     "output_type": "stream",
     "text": [
      "\u001b[1m\u001b[34mAccface\u001b[39;49m\u001b[0m/\n",
      "\u001b[1m\u001b[34mExportimages\u001b[39;49m\u001b[0m/\n",
      "Female1.png\n",
      "Female10.png\n",
      "Female11.png\n",
      "Female12.png\n",
      "Female13.png\n",
      "Female2.png\n",
      "Female3.png\n",
      "Female4.png\n",
      "Female5.png\n",
      "Female6.png\n",
      "Female7.png\n",
      "Female8.png\n",
      "Female9.png\n",
      "Ftop1.png\n",
      "Ftop2.png\n",
      "Ftop3.png\n",
      "Ftop4.png\n",
      "Ftop5.png\n",
      "Male1.png\n",
      "Male10.png\n",
      "Male11.png\n",
      "Male2 2.png\n",
      "Male3.png\n",
      "Male4.png\n",
      "Male5.png\n",
      "Male6.png\n",
      "Male7.png\n",
      "Male8.png\n",
      "Male9.png\n",
      "Maleface1.png\n",
      "Skin color .png\n",
      "Skin1.png\n",
      "Skin2.png\n",
      "Skin3.png\n",
      "Skin4.png\n",
      "Skin5.png\n",
      "Skin6.png\n",
      "Skin7.png\n",
      "Top1.png\n",
      "Top2.png\n",
      "Top3.png\n",
      "Top5.png\n",
      "Top6.png\n",
      "Untitled.ipynb\n",
      "codingrandomization.ipynb\n",
      "\r"
     ]
    }
   ],
   "source": [
    "\n",
    "\n",
    "ls\n"
   ]
  },
  {
   "cell_type": "code",
   "execution_count": null,
   "metadata": {},
   "outputs": [],
   "source": [
    "pwd\n"
   ]
  },
  {
   "cell_type": "code",
   "execution_count": 4,
   "metadata": {},
   "outputs": [
    {
     "ename": "SyntaxError",
     "evalue": "unexpected EOF while parsing (<ipython-input-4-f8f16ecb82d0>, line 6)",
     "output_type": "error",
     "traceback": [
      "\u001b[0;36m  File \u001b[0;32m\"<ipython-input-4-f8f16ecb82d0>\"\u001b[0;36m, line \u001b[0;32m6\u001b[0m\n\u001b[0;31m    \u001b[0m\n\u001b[0m    ^\u001b[0m\n\u001b[0;31mSyntaxError\u001b[0m\u001b[0;31m:\u001b[0m unexpected EOF while parsing\n"
     ]
    }
   ],
   "source": [
    "#naming the unique files \n",
    "#Directory = os.path('/private/var/mobile/Library/Mobile Documents/com~apple~CloudDocs/ImportantDoc/RelationshipgMe')\n",
    "\n",
    "for files in directory: \n",
    "\n",
    "    "
   ]
  },
  {
   "cell_type": "code",
   "execution_count": 5,
   "metadata": {},
   "outputs": [],
   "source": [
    "#identify terms and list \n",
    "skin = ['Skin1.png', 'Skin2.png', 'Skin3.png' ,'Skin4.png' ,'Skin5.png' ,'Skin6.png','Skin7.png'] \n",
    "fface = ['Mface1', 'Mface2', 'Mface3', 'Mface4', 'Mface5', 'Face1', 'Face2', 'Face3', 'Face4']\n",
    "mface = ['Mface1', 'Mface2', 'Mface3', 'Mface4', 'Mface5']\n",
    "fhair = ['Female1', 'Female2', 'Female3', 'Female4', 'Female5', 'Female6', 'Female7', 'Female8', 'Female9', 'Female10', 'Female11', 'Female12', 'Female13'] \n",
    "mhair = ['Male1', 'Male2', 'Male3', 'Male4', 'Male5', 'Male6', 'Male7', 'Male8', 'Male9', 'Male10', 'Male11',]\n",
    "acc = ['Acc1', 'Acc2','Acc3','Acc4','Acc5', 'Acc6'] \n",
    "facc = ['Femaleacc1', 'Femaleacc2', 'Femaleacc3', 'Femaleacc4', 'Acc1']\n",
    "ftop = ['Ftop1', 'Ftop2', 'Ftop3', 'Ftop4', 'Ftop5', 'Top1', 'Top2', 'Top3', 'Top4', 'Top5', 'Top6']\n",
    "mtop = ['Top1', 'Top2', 'Top3', 'Top4', 'Top5', 'Top6' ]\n",
    "\n",
    "#converting to dictionary \n",
    "skin_dict = {}\n",
    "face_dict = {} \n",
    "hair_dict = [] \n",
    "acc_dict = {} \n",
    "top_dict = {} \n",
    "\n"
   ]
  },
  {
   "cell_type": "code",
   "execution_count": 6,
   "metadata": {},
   "outputs": [
    {
     "ename": "IndentationError",
     "evalue": "unexpected indent (<ipython-input-6-6cd389bd8986>, line 10)",
     "output_type": "error",
     "traceback": [
      "\u001b[0;36m  File \u001b[0;32m\"<ipython-input-6-6cd389bd8986>\"\u001b[0;36m, line \u001b[0;32m10\u001b[0m\n\u001b[0;31m    if gen = 1:\u001b[0m\n\u001b[0m    ^\u001b[0m\n\u001b[0;31mIndentationError\u001b[0m\u001b[0;31m:\u001b[0m unexpected indent\n"
     ]
    }
   ],
   "source": [
    "def randompic(n):\n",
    "    #n is the number of random pic want to produce \n",
    "    Femalecount = 0\n",
    "    Malecount = 0 \n",
    "    \n",
    "    for pic in n: \n",
    "        \n",
    "        #assign gender \n",
    "        gen = random.randint(0, 1)\t#F=1,M=0\n",
    "            if gen = 1:\n",
    "                gender = \"Female\"\n",
    "                Femalecount =+ 1\n",
    "                \n",
    "                len() \n",
    "                skin\n",
    "                face\n",
    "                hair\n",
    "                acc\n",
    "                top\n",
    "                \n",
    "                \n",
    "            elif gen = 0:\n",
    "                gender = \"Male\"\n",
    "                Malecount =+ 1\n",
    "                \n",
    "                skin\n",
    "                face\n",
    "                hair\n",
    "                acc\n",
    "                top\n",
    "                \n",
    "                len() \n",
    "        \n",
    "        \n",
    "        face = \n",
    "        hair = \n",
    "        accessory \n",
    "        top = \n",
    "        \n",
    "        \n",
    "        \n",
    "    print (\"I have made %i randomized picture /n Female =%i, Male =%i\" %n, Femalecount, Malecount)\n",
    "    return "
   ]
  },
  {
   "cell_type": "code",
   "execution_count": null,
   "metadata": {},
   "outputs": [],
   "source": []
  }
 ],
 "metadata": {
  "kernelspec": {
   "display_name": "Python 3 (ipykernel)",
   "language": "python",
   "name": "python3"
  },
  "language_info": {
   "codemirror_mode": {
    "name": "ipython",
    "version": 3
   },
   "file_extension": ".py",
   "mimetype": "text/x-python",
   "name": "python",
   "nbconvert_exporter": "python",
   "pygments_lexer": "ipython3",
   "version": "3.9.10+"
  }
 },
 "nbformat": 4,
 "nbformat_minor": 2
}
