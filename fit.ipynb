{
 "cells": [
  {
   "cell_type": "code",
   "execution_count": 1,
   "metadata": {},
   "outputs": [
    {
     "name": "stdout",
     "output_type": "stream",
     "text": [
      "Populating the interactive namespace from numpy and matplotlib\n"
     ]
    },
    {
     "data": {
      "image/png": "[encoded data removed]",
      "text/plain": [
       "<Figure size 432x288 with 1 Axes>"
      ]
     },
     "metadata": {
      "needs_background": "light"
     },
     "output_type": "display_data"
    }
   ],
   "source": [
    "%pylab inline\n",
    "import matplotlib.pyplot as plt\n",
    "import matplotlib.image as mpimg\n",
    "\n",
    "\n",
    "img = mpimg.imread('Top1.png')\n",
    "imgplot = plt.imshow(img)\n",
    "plt.show()\n",
    "\n",
    "\n",
    "#with open (\"Acc1.png\", 'rb') as pic1:\n",
    "#    image = pic1.read()\n",
    "\n",
    "#print (image)"
   ]
  },
  {
   "cell_type": "code",
   "execution_count": 2,
   "metadata": {},
   "outputs": [
    {
     "name": "stdout",
     "output_type": "stream",
     "text": [
      "\u001b[34mAccface\u001b[m\u001b[m/                   Male8.png\r\n",
      "\u001b[34mBangs hair\u001b[m\u001b[m/                Male9.png\r\n",
      "\u001b[34mExportimages\u001b[m\u001b[m/              Maleface1.png\r\n",
      "Face1.png                  Mface1.png\r\n",
      "Face2.png                  Mface10.png\r\n",
      "Face3.png                  Mface2.png\r\n",
      "Face4.png                  Mface3.png\r\n",
      "Female1.png                Mface4.png\r\n",
      "Female10.png               Mface5.png\r\n",
      "Female11.png               Mface7.png\r\n",
      "Female12.png               Mface8.png\r\n",
      "Female13.png               \u001b[34mOLDOUTFITS\u001b[m\u001b[m/\r\n",
      "Female2.png                Skin color .png\r\n",
      "Female3.png                Skin0.png\r\n",
      "Female6.png                Skin1.png\r\n",
      "Female9.png                Skin2.png\r\n",
      "Ftop1.png                  Skin3.png\r\n",
      "Ftop2.png                  Skin4.png\r\n",
      "Ftop3.png                  Skin5.png\r\n",
      "Ftop4.png                  Skin6.png\r\n",
      "Ftop5.png                  Skin7.png\r\n",
      "\u001b[34mHair bangs \u001b[m\u001b[m/               Top1.png\r\n",
      "MFace6.png                 Top2.png\r\n",
      "MFace9.png                 Top3.png\r\n",
      "Male1.png                  Top4.png\r\n",
      "Male10.png                 Top5.png\r\n",
      "Male11.png                 Top6.png\r\n",
      "Male2.png                  Top7.png\r\n",
      "Male3.png                  Top8.png\r\n",
      "Male4.png                  Top9.png\r\n",
      "Male5.png                  codingrandomization.ipynb\r\n",
      "Male6.png                  fit.ipynb\r\n",
      "Male7.png\r\n"
     ]
    }
   ],
   "source": [
    "\n",
    "ls"
   ]
  },
  {
   "cell_type": "code",
   "execution_count": 3,
   "metadata": {},
   "outputs": [
    {
     "data": {
      "text/plain": [
       "'/Users/oanhtt/Library/Mobile Documents/com~apple~CloudDocs/ImportantDoc/RelationshipgMe'"
      ]
     },
     "execution_count": 3,
     "metadata": {},
     "output_type": "execute_result"
    }
   ],
   "source": [
    "pwd\n"
   ]
  },
  {
   "cell_type": "code",
   "execution_count": 4,
   "metadata": {},
   "outputs": [],
   "source": [
    "#naming the unique files \n",
    "#Directory = os.path('/private/var/mobile/Library/Mobile Documents/com~apple~CloudDocs/ImportantDoc/RelationshipgMe')"
   ]
  },
  {
   "cell_type": "code",
   "execution_count": 5,
   "metadata": {},
   "outputs": [],
   "source": [
    "#identify terms and list and dictionary\n",
    "skin = [ 'Skin2', 'Skin3' ,'Skin4' ,'Skin5' ,'Skin6','Skin7'] #removed skin1\n",
    "fface = ['Mface1', 'Mface3', 'Mface4', 'Face1', 'Face2', 'Face3', 'Face4'] #rm maleface2,5\n",
    "mface = ['Mface1', 'Mface2', 'Mface3', 'Mface4', 'Mface5', 'Mface6']\n",
    "fhair = ['Female1', 'Female2', 'Female3', 'Female4', 'Female5', 'Female6', 'Female7', 'Female8', 'Female9', 'Female10', 'Female11', 'Female12', 'Female13'] \n",
    "mhair = ['Male1', 'Male2', 'Male3', 'Male4', 'Male5', 'Male6', 'Male7', 'Male8', 'Male9', 'Male10', 'Male11',]\n",
    "#acc = ['Acc1', 'Acc2','Acc3','Acc4','Acc5', 'Acc6'] \n",
    "#facc = ['Femaleacc1', 'Femaleacc2', 'Femaleacc3', 'Femaleacc4', 'Acc1']\n",
    "ftop = ['Ftop1', 'Ftop2', 'Ftop3', 'Ftop4', 'Ftop5', 'Top1', 'Top2', 'Top3', 'Top4', 'Top5', 'Top6', 'Top7', 'Top8', 'Top9']\n",
    "mtop = ['Top1', 'Top2', 'Top3', 'Top4', 'Top5', 'Top6', 'Top7', 'Top8', 'Top9']\n",
    "\n",
    "#converting to dictionary \n",
    "chdict = {}\n",
    "chdict['skin'] = skin \n",
    "chdict['fface'] = fface \n",
    "chdict['mface'] = mface \n",
    "chdict['fhair'] = fhair\n",
    "chdict['mhair'] = mhair\n",
    "#chdict['acc'] = acc\n",
    "#chdict['facc'] = facc \n",
    "chdict['ftop'] = ftop \n",
    "chdict['mtop'] = mtop \n",
    "# print (chardict) #confirmed! works "
   ]
  },
  {
   "cell_type": "code",
   "execution_count": 6,
   "metadata": {},
   "outputs": [
    {
     "data": {
      "text/plain": [
       "6"
      ]
     },
     "execution_count": 6,
     "metadata": {},
     "output_type": "execute_result"
    }
   ],
   "source": [
    "#calling dictionary practice \n",
    "chdict['mhair'][3] #calling specifics #works  \n",
    "len(chdict['skin']) #identify how much is in specific group #works \n"
   ]
  },
  {
   "cell_type": "code",
   "execution_count": 7,
   "metadata": {},
   "outputs": [],
   "source": [
    "import os\n",
    "from PIL import Image \n",
    "\n",
    "def randompicgen(n):\n",
    "    #adding in the package required \n",
    "    #from PIL import Image \n",
    "    #import os \n",
    "    import random\n",
    "\n",
    "    #n is the number of random pic want to produce \n",
    "    Femalecount = 0\n",
    "    Malecount = 0 \n",
    "    \n",
    "    #adding in the dictionary of items we need \n",
    "    \n",
    "    for pic in range(n): \n",
    "        \n",
    "        #assign gender \n",
    "        gen = random.randint(0, 1)\t#F=1,M=0\n",
    "        if gen == 1:\n",
    "            gender = \"Female\"\n",
    "            Femalecount += 1\n",
    "\n",
    "            final_skin = chdict['skin'][(random.randrange(len(chdict['skin'])))] \n",
    "                ##ooof tooo weird \n",
    "                # finding the amount in the dictionary range, randomize from the range, \n",
    "                # and pick the image from that. \n",
    "            final_face = chdict['fface'][(random.randrange(len(chdict['fface'])))] \n",
    "            final_hair = chdict['fhair'][(random.randrange(len(chdict['fhair'])))] \n",
    "            #final_acc = chdict['facc'][(random.randrange(len(chdict['facc'])))] \n",
    "            final_top = chdict['ftop'][(random.randrange(len(chdict['ftop'])))] \n",
    "\n",
    "\n",
    "\n",
    "        elif gen == 0:\n",
    "            gender = \"Male\"\n",
    "            Malecount += 1\n",
    "\n",
    "            final_skin = chdict['skin'][(random.randrange(len(chdict['skin'])))] \n",
    "            final_face = chdict['mface'][(random.randrange(len(chdict['mface'])))] \n",
    "            final_hair = chdict['mhair'][(random.randrange(len(chdict['mhair'])))] \n",
    "            #final_acc = chdict['acc'][(random.randrange(len(chdict['acc'])))] \n",
    "            final_top = chdict['mtop'][(random.randrange(len(chdict['mtop'])))] \n",
    "\n",
    "        #print (final_skin)\n",
    "        imgskin = Image.open(\"%s.png\" %final_skin)\n",
    "        imgface = Image.open(\"%s.png\" %final_face)\n",
    "        imghair = Image.open(\"%s.png\" %final_hair)\n",
    "        #imgacc = Image.open(\"%s.png\" %final_acc)\n",
    "        imgtop = Image.open(\"%s.png\" %final_top) \n",
    "        \n",
    "        combineimg1 = Image.alpha_composite(imgskin, imgtop)\n",
    "        combineimg2 = Image.alpha_composite(combineimg1, imghair)\n",
    "        combineimg3 = Image.alpha_composite(combineimg2, imgface)\n",
    "        combineimg3.save(\"./Exportimages/%i.jpg\" %pic ,\"PNG\")\n",
    "        combineimg3.show() #for testing \n",
    "        #back_im.paste(im2)\n",
    "        #later - adjust the picture with different colors! \n",
    "\n",
    "        \n",
    "        \n",
    "    #print (\"I have made %i randomized picture /n Female =%i, Male =%i\" %(n, Femalecount, Malecount )\n",
    "    return n, Femalecount, Malecount "
   ]
  },
  {
   "cell_type": "code",
   "execution_count": 8,
   "metadata": {
    "scrolled": true
   },
   "outputs": [
    {
     "ename": "FileNotFoundError",
     "evalue": "[Errno 2] No such file or directory: 'Female5.png'",
     "output_type": "error",
     "traceback": [
      "\u001b[0;31m---------------------------------------------------------------------------\u001b[0m",
      "\u001b[0;31mFileNotFoundError\u001b[0m                         Traceback (most recent call last)",
      "\u001b[0;32m<ipython-input-8-404a228d5a27>\u001b[0m in \u001b[0;36m<module>\u001b[0;34m\u001b[0m\n\u001b[0;32m----> 1\u001b[0;31m \u001b[0mrandompicgen\u001b[0m\u001b[0;34m(\u001b[0m\u001b[0;36m20\u001b[0m\u001b[0;34m)\u001b[0m\u001b[0;34m\u001b[0m\u001b[0;34m\u001b[0m\u001b[0m\n\u001b[0m",
      "\u001b[0;32m<ipython-input-7-ada5d34416eb>\u001b[0m in \u001b[0;36mrandompicgen\u001b[0;34m(n)\u001b[0m\n\u001b[1;32m     46\u001b[0m         \u001b[0mimgskin\u001b[0m \u001b[0;34m=\u001b[0m \u001b[0mImage\u001b[0m\u001b[0;34m.\u001b[0m\u001b[0mopen\u001b[0m\u001b[0;34m(\u001b[0m\u001b[0;34m\"%s.png\"\u001b[0m \u001b[0;34m%\u001b[0m\u001b[0mfinal_skin\u001b[0m\u001b[0;34m)\u001b[0m\u001b[0;34m\u001b[0m\u001b[0;34m\u001b[0m\u001b[0m\n\u001b[1;32m     47\u001b[0m         \u001b[0mimgface\u001b[0m \u001b[0;34m=\u001b[0m \u001b[0mImage\u001b[0m\u001b[0;34m.\u001b[0m\u001b[0mopen\u001b[0m\u001b[0;34m(\u001b[0m\u001b[0;34m\"%s.png\"\u001b[0m \u001b[0;34m%\u001b[0m\u001b[0mfinal_face\u001b[0m\u001b[0;34m)\u001b[0m\u001b[0;34m\u001b[0m\u001b[0;34m\u001b[0m\u001b[0m\n\u001b[0;32m---> 48\u001b[0;31m         \u001b[0mimghair\u001b[0m \u001b[0;34m=\u001b[0m \u001b[0mImage\u001b[0m\u001b[0;34m.\u001b[0m\u001b[0mopen\u001b[0m\u001b[0;34m(\u001b[0m\u001b[0;34m\"%s.png\"\u001b[0m \u001b[0;34m%\u001b[0m\u001b[0mfinal_hair\u001b[0m\u001b[0;34m)\u001b[0m\u001b[0;34m\u001b[0m\u001b[0;34m\u001b[0m\u001b[0m\n\u001b[0m\u001b[1;32m     49\u001b[0m         \u001b[0;31m#imgacc = Image.open(\"%s.png\" %final_acc)\u001b[0m\u001b[0;34m\u001b[0m\u001b[0;34m\u001b[0m\u001b[0;34m\u001b[0m\u001b[0m\n\u001b[1;32m     50\u001b[0m         \u001b[0mimgtop\u001b[0m \u001b[0;34m=\u001b[0m \u001b[0mImage\u001b[0m\u001b[0;34m.\u001b[0m\u001b[0mopen\u001b[0m\u001b[0;34m(\u001b[0m\u001b[0;34m\"%s.png\"\u001b[0m \u001b[0;34m%\u001b[0m\u001b[0mfinal_top\u001b[0m\u001b[0;34m)\u001b[0m\u001b[0;34m\u001b[0m\u001b[0;34m\u001b[0m\u001b[0m\n",
      "\u001b[0;32m~/opt/anaconda3/lib/python3.7/site-packages/PIL/Image.py\u001b[0m in \u001b[0;36mopen\u001b[0;34m(fp, mode)\u001b[0m\n\u001b[1;32m   2764\u001b[0m \u001b[0;34m\u001b[0m\u001b[0m\n\u001b[1;32m   2765\u001b[0m     \u001b[0;32mif\u001b[0m \u001b[0mfilename\u001b[0m\u001b[0;34m:\u001b[0m\u001b[0;34m\u001b[0m\u001b[0;34m\u001b[0m\u001b[0m\n\u001b[0;32m-> 2766\u001b[0;31m         \u001b[0mfp\u001b[0m \u001b[0;34m=\u001b[0m \u001b[0mbuiltins\u001b[0m\u001b[0;34m.\u001b[0m\u001b[0mopen\u001b[0m\u001b[0;34m(\u001b[0m\u001b[0mfilename\u001b[0m\u001b[0;34m,\u001b[0m \u001b[0;34m\"rb\"\u001b[0m\u001b[0;34m)\u001b[0m\u001b[0;34m\u001b[0m\u001b[0;34m\u001b[0m\u001b[0m\n\u001b[0m\u001b[1;32m   2767\u001b[0m         \u001b[0mexclusive_fp\u001b[0m \u001b[0;34m=\u001b[0m \u001b[0;32mTrue\u001b[0m\u001b[0;34m\u001b[0m\u001b[0;34m\u001b[0m\u001b[0m\n\u001b[1;32m   2768\u001b[0m \u001b[0;34m\u001b[0m\u001b[0m\n",
      "\u001b[0;31mFileNotFoundError\u001b[0m: [Errno 2] No such file or directory: 'Female5.png'"
     ]
    }
   ],
   "source": [
    "randompicgen(20)\n"
   ]
  },
  {
   "cell_type": "raw",
   "metadata": {},
   "source": []
  },
  {
   "cell_type": "code",
   "execution_count": 15,
   "metadata": {},
   "outputs": [
    {
     "data": {
      "image/png": "[encoded data removed]",
      "text/plain": [
       "<PIL.PngImagePlugin.PngImageFile image mode=RGBA size=750x1200>"
      ]
     },
     "metadata": {},
     "output_type": "display_data"
    }
   ],
   "source": [
    "#potential merge code \n",
    "from PIL import Image #works okay! \n",
    "image = Image.open(\"Acc1.png\")\n",
    "#r, g, b = image.split()\n",
    "#image.show()\n",
    "#image = Image.merge(\"RGB\", (b, g, r))\n",
    "image.show() "
   ]
  },
  {
   "cell_type": "code",
   "execution_count": 79,
   "metadata": {},
   "outputs": [
    {
     "ename": "FileNotFoundError",
     "evalue": "[Errno 2] No such file or directory: 'Acc1.png'",
     "output_type": "error",
     "traceback": [
      "\u001b[0;31m---------------------------------------------------------------------------\u001b[0m",
      "\u001b[0;31mFileNotFoundError\u001b[0m                         Traceback (most recent call last)",
      "\u001b[0;32m<ipython-input-79-d823aa7b75fc>\u001b[0m in \u001b[0;36m<module>\u001b[0;34m\u001b[0m\n\u001b[0;32m----> 1\u001b[0;31m \u001b[0mim1\u001b[0m \u001b[0;34m=\u001b[0m \u001b[0mImage\u001b[0m\u001b[0;34m.\u001b[0m\u001b[0mopen\u001b[0m\u001b[0;34m(\u001b[0m\u001b[0;34m'Acc1.png'\u001b[0m\u001b[0;34m)\u001b[0m\u001b[0;34m\u001b[0m\u001b[0;34m\u001b[0m\u001b[0m\n\u001b[0m\u001b[1;32m      2\u001b[0m \u001b[0mim2\u001b[0m \u001b[0;34m=\u001b[0m \u001b[0mImage\u001b[0m\u001b[0;34m.\u001b[0m\u001b[0mopen\u001b[0m\u001b[0;34m(\u001b[0m\u001b[0;34m'Skin2.png'\u001b[0m\u001b[0;34m)\u001b[0m\u001b[0;34m\u001b[0m\u001b[0;34m\u001b[0m\u001b[0m\n\u001b[1;32m      3\u001b[0m \u001b[0;34m\u001b[0m\u001b[0m\n\u001b[1;32m      4\u001b[0m \u001b[0mback_im\u001b[0m \u001b[0;34m=\u001b[0m \u001b[0mim2\u001b[0m\u001b[0;34m.\u001b[0m\u001b[0mcopy\u001b[0m\u001b[0;34m(\u001b[0m\u001b[0;34m)\u001b[0m\u001b[0;34m\u001b[0m\u001b[0;34m\u001b[0m\u001b[0m\n\u001b[1;32m      5\u001b[0m \u001b[0mback_im\u001b[0m\u001b[0;34m.\u001b[0m\u001b[0malpha_composite\u001b[0m\u001b[0;34m(\u001b[0m\u001b[0mim1\u001b[0m\u001b[0;34m)\u001b[0m\u001b[0;34m\u001b[0m\u001b[0;34m\u001b[0m\u001b[0m\n",
      "\u001b[0;32m~/opt/anaconda3/lib/python3.7/site-packages/PIL/Image.py\u001b[0m in \u001b[0;36mopen\u001b[0;34m(fp, mode)\u001b[0m\n\u001b[1;32m   2764\u001b[0m \u001b[0;34m\u001b[0m\u001b[0m\n\u001b[1;32m   2765\u001b[0m     \u001b[0;32mif\u001b[0m \u001b[0mfilename\u001b[0m\u001b[0;34m:\u001b[0m\u001b[0;34m\u001b[0m\u001b[0;34m\u001b[0m\u001b[0m\n\u001b[0;32m-> 2766\u001b[0;31m         \u001b[0mfp\u001b[0m \u001b[0;34m=\u001b[0m \u001b[0mbuiltins\u001b[0m\u001b[0;34m.\u001b[0m\u001b[0mopen\u001b[0m\u001b[0;34m(\u001b[0m\u001b[0mfilename\u001b[0m\u001b[0;34m,\u001b[0m \u001b[0;34m\"rb\"\u001b[0m\u001b[0;34m)\u001b[0m\u001b[0;34m\u001b[0m\u001b[0;34m\u001b[0m\u001b[0m\n\u001b[0m\u001b[1;32m   2767\u001b[0m         \u001b[0mexclusive_fp\u001b[0m \u001b[0;34m=\u001b[0m \u001b[0;32mTrue\u001b[0m\u001b[0;34m\u001b[0m\u001b[0;34m\u001b[0m\u001b[0m\n\u001b[1;32m   2768\u001b[0m \u001b[0;34m\u001b[0m\u001b[0m\n",
      "\u001b[0;31mFileNotFoundError\u001b[0m: [Errno 2] No such file or directory: 'Acc1.png'"
     ]
    }
   ],
   "source": [
    "im1 = Image.open('Acc1.png')\n",
    "im2 = Image.open('Skin2.png')\n",
    "\n",
    "back_im = im2.copy()\n",
    "back_im.alpha_composite(im1)\n",
    "back_im.save('test1.png', quality=95)\n",
    "back_im.show()"
   ]
  },
  {
   "cell_type": "code",
   "execution_count": 17,
   "metadata": {},
   "outputs": [
    {
     "ename": "error",
     "evalue": "OpenCV(4.5.2) /Users/holzschu/src/Xcode_iPad/Carnets/cpython/packages/opencv-python/opencv/modules/highgui/src/window.cpp:679: error: (-2:Unspecified error) The function is not implemented. Rebuild the library with Windows, GTK+ 2.x or Cocoa support. If you are on Ubuntu or Debian, install libgtk2.0-dev and pkg-config, then re-run cmake or configure script in function 'cvShowImage'\n",
     "output_type": "error",
     "traceback": [
      "\u001b[0;31m---------------------------------------------------------------------------\u001b[0m",
      "\u001b[0;31merror\u001b[0m                                     Traceback (most recent call last)",
      "Input \u001b[0;32mIn [17]\u001b[0m, in \u001b[0;36m<cell line: 23>\u001b[0;34m()\u001b[0m\n\u001b[1;32m     21\u001b[0m dst \u001b[38;5;241m=\u001b[39m cv\u001b[38;5;241m.\u001b[39madd(img1_bg,img2_fg)\n\u001b[1;32m     22\u001b[0m img1[\u001b[38;5;241m0\u001b[39m:rows, \u001b[38;5;241m0\u001b[39m:cols ] \u001b[38;5;241m=\u001b[39m dst\n\u001b[0;32m---> 23\u001b[0m \u001b[43mcv\u001b[49m\u001b[38;5;241;43m.\u001b[39;49m\u001b[43mimshow\u001b[49m\u001b[43m(\u001b[49m\u001b[38;5;124;43m'\u001b[39;49m\u001b[38;5;124;43mres\u001b[39;49m\u001b[38;5;124;43m'\u001b[39;49m\u001b[43m,\u001b[49m\u001b[43mimg1\u001b[49m\u001b[43m)\u001b[49m\n\u001b[1;32m     24\u001b[0m cv\u001b[38;5;241m.\u001b[39mwaitKey(\u001b[38;5;241m0\u001b[39m)\n\u001b[1;32m     25\u001b[0m cv\u001b[38;5;241m.\u001b[39mdestroyAllWindows()\n",
      "\u001b[0;31merror\u001b[0m: OpenCV(4.5.2) /Users/holzschu/src/Xcode_iPad/Carnets/cpython/packages/opencv-python/opencv/modules/highgui/src/window.cpp:679: error: (-2:Unspecified error) The function is not implemented. Rebuild the library with Windows, GTK+ 2.x or Cocoa support. If you are on Ubuntu or Debian, install libgtk2.0-dev and pkg-config, then re-run cmake or configure script in function 'cvShowImage'\n"
     ]
    }
   ],
   "source": [
    "import cv2 as cv\n",
    "# Load two images\n",
    "img1 = cv.imread('Skin1.png')\n",
    "img2 = cv.imread('Acc1.png')\n",
    "\n",
    "# I want to put logo on top-left corner, So I create a ROI\n",
    "rows,cols,channels = img2.shape\n",
    "#roi = img1[0:rows, 0:cols]\n",
    "\n",
    "# Now create a mask of logo and create its inverse mask also\n",
    "img2gray = cv.cvtColor(img2,cv.COLOR_BGR2GRAY)\n",
    "ret, mask = cv.threshold(img2gray, 10, 255, cv.THRESH_BINARY)\n",
    "mask_inv = cv.bitwise_not(mask)\n",
    "\n",
    "# Now black-out the area of logo in ROI\n",
    "img1_bg = cv.bitwise_and(img1,img1, mask = mask_inv)\n",
    "# Take only region of logo from logo image.\n",
    "img2_fg = cv.bitwise_and(img2,img2,mask = mask)\n",
    "\n",
    "# Put logo in ROI and modify the main image\n",
    "dst = cv.add(img1_bg,img2_fg)\n",
    "img1[0:rows, 0:cols ] = dst\n",
    "cv.imshow('res',img1)\n",
    "cv.waitKey(0)\n",
    "cv.destroyAllWindows()"
   ]
  },
  {
   "cell_type": "code",
   "execution_count": null,
   "metadata": {},
   "outputs": [],
   "source": []
  },
  {
   "cell_type": "code",
   "execution_count": null,
   "metadata": {},
   "outputs": [],
   "source": []
  }
 ],
 "metadata": {
  "kernelspec": {
   "display_name": "Python 3",
   "language": "python",
   "name": "python3"
  },
  "language_info": {
   "codemirror_mode": {
    "name": "ipython",
    "version": 3
   },
   "file_extension": ".py",
   "mimetype": "text/x-python",
   "name": "python",
   "nbconvert_exporter": "python",
   "pygments_lexer": "ipython3",
   "version": "3.7.4"
  }
 },
 "nbformat": 4,
 "nbformat_minor": 2
}
